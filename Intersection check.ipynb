{
 "cells": [
  {
   "cell_type": "markdown",
   "metadata": {},
   "source": [
    "# Line intersection\n",
    "## Preparation"
   ]
  },
  {
   "cell_type": "code",
   "execution_count": 1,
   "metadata": {
    "collapsed": true
   },
   "outputs": [],
   "source": [
    "import numpy as np\n",
    "from sympy import *\n",
    "init_printing(use_latex='mathjax')"
   ]
  },
  {
   "cell_type": "markdown",
   "metadata": {},
   "source": [
    "## Line Definition"
   ]
  },
  {
   "cell_type": "code",
   "execution_count": 2,
   "metadata": {},
   "outputs": [],
   "source": [
    "x0,y0,z0 = symbols('x0 y0 z0') # line origin\n",
    "j,k,l = symbols('j k l') # line direction\n",
    "t, t2, t3 = symbols('t t2 t3') # parameter and two solutions\n",
    "\n",
    "x,y,z = symbols('x y z') # coordinates\n",
    "\n",
    "# line equations\n",
    "x = x0 + t*j\n",
    "y = y0 + t*k\n",
    "z = z0 + t*l"
   ]
  },
  {
   "cell_type": "markdown",
   "metadata": {},
   "source": [
    "## Sphere"
   ]
  },
  {
   "cell_type": "code",
   "execution_count": 1,
   "metadata": {},
   "outputs": [
    {
     "ename": "NameError",
     "evalue": "name 'symbols' is not defined",
     "output_type": "error",
     "traceback": [
      "\u001b[0;31m---------------------------------------------------------------------------\u001b[0m",
      "\u001b[0;31mNameError\u001b[0m                                 Traceback (most recent call last)",
      "\u001b[0;32m<ipython-input-1-8ff644fb6cce>\u001b[0m in \u001b[0;36m<module>\u001b[0;34m()\u001b[0m\n\u001b[0;32m----> 1\u001b[0;31m \u001b[0mR\u001b[0m \u001b[0;34m=\u001b[0m \u001b[0msymbols\u001b[0m\u001b[0;34m(\u001b[0m\u001b[0;34m'R'\u001b[0m\u001b[0;34m)\u001b[0m \u001b[0;31m# radius\u001b[0m\u001b[0;34m\u001b[0m\u001b[0m\n\u001b[0m\u001b[1;32m      2\u001b[0m \u001b[0mxr\u001b[0m\u001b[0;34m,\u001b[0m \u001b[0myr\u001b[0m\u001b[0;34m,\u001b[0m \u001b[0mzr\u001b[0m \u001b[0;34m=\u001b[0m \u001b[0msymbols\u001b[0m\u001b[0;34m(\u001b[0m\u001b[0;34m'x_r y_r z_r'\u001b[0m\u001b[0;34m)\u001b[0m\u001b[0;34m\u001b[0m\u001b[0m\n\u001b[1;32m      3\u001b[0m \u001b[0;34m\u001b[0m\u001b[0m\n\u001b[1;32m      4\u001b[0m \u001b[0msphere\u001b[0m \u001b[0;34m=\u001b[0m \u001b[0mEq\u001b[0m\u001b[0;34m(\u001b[0m\u001b[0mxr\u001b[0m\u001b[0;34m**\u001b[0m\u001b[0;36m2\u001b[0m \u001b[0;34m+\u001b[0m \u001b[0myr\u001b[0m\u001b[0;34m**\u001b[0m\u001b[0;36m2\u001b[0m \u001b[0;34m+\u001b[0m \u001b[0mzr\u001b[0m\u001b[0;34m**\u001b[0m\u001b[0;36m2\u001b[0m\u001b[0;34m,\u001b[0m \u001b[0mR\u001b[0m\u001b[0;34m**\u001b[0m\u001b[0;36m2\u001b[0m\u001b[0;34m)\u001b[0m\u001b[0;34m\u001b[0m\u001b[0m\n\u001b[1;32m      5\u001b[0m \u001b[0mprint\u001b[0m\u001b[0;34m(\u001b[0m\u001b[0;34m\"Sphere equation\"\u001b[0m\u001b[0;34m)\u001b[0m\u001b[0;34m\u001b[0m\u001b[0m\n",
      "\u001b[0;31mNameError\u001b[0m: name 'symbols' is not defined"
     ]
    }
   ],
   "source": [
    "R = symbols('R') # radius\n",
    "xr, yr, zr = symbols('x_r y_r z_r') \n",
    "\n",
    "sphere = Eq(xr**2 + yr**2 + zr**2, R**2)\n",
    "print(\"Sphere equation\")\n",
    "display(sphere)"
   ]
  },
  {
   "cell_type": "code",
   "execution_count": 2,
   "metadata": {},
   "outputs": [
    {
     "ename": "NameError",
     "evalue": "name 'sphere' is not defined",
     "output_type": "error",
     "traceback": [
      "\u001b[0;31m---------------------------------------------------------------------------\u001b[0m",
      "\u001b[0;31mNameError\u001b[0m                                 Traceback (most recent call last)",
      "\u001b[0;32m<ipython-input-2-448faee63c39>\u001b[0m in \u001b[0;36m<module>\u001b[0;34m()\u001b[0m\n\u001b[0;32m----> 1\u001b[0;31m \u001b[0msphere\u001b[0m \u001b[0;34m=\u001b[0m \u001b[0msphere\u001b[0m\u001b[0;34m.\u001b[0m\u001b[0msubs\u001b[0m\u001b[0;34m(\u001b[0m\u001b[0;34m[\u001b[0m\u001b[0;34m(\u001b[0m\u001b[0mxr\u001b[0m\u001b[0;34m,\u001b[0m\u001b[0mx\u001b[0m\u001b[0;34m)\u001b[0m\u001b[0;34m,\u001b[0m \u001b[0;34m(\u001b[0m\u001b[0myr\u001b[0m\u001b[0;34m,\u001b[0m \u001b[0my\u001b[0m\u001b[0;34m)\u001b[0m\u001b[0;34m,\u001b[0m \u001b[0;34m(\u001b[0m\u001b[0mzr\u001b[0m\u001b[0;34m,\u001b[0m \u001b[0mz\u001b[0m\u001b[0;34m)\u001b[0m\u001b[0;34m]\u001b[0m\u001b[0;34m)\u001b[0m\u001b[0;34m\u001b[0m\u001b[0m\n\u001b[0m\u001b[1;32m      2\u001b[0m \u001b[0mt2\u001b[0m\u001b[0;34m,\u001b[0m\u001b[0mt3\u001b[0m \u001b[0;34m=\u001b[0m \u001b[0msolveset\u001b[0m\u001b[0;34m(\u001b[0m\u001b[0msphere\u001b[0m\u001b[0;34m,\u001b[0m\u001b[0mt\u001b[0m\u001b[0;34m)\u001b[0m\u001b[0;34m\u001b[0m\u001b[0m\n",
      "\u001b[0;31mNameError\u001b[0m: name 'sphere' is not defined"
     ]
    }
   ],
   "source": [
    "sphere = sphere.subs([(xr,x), (yr, y), (zr, z)])\n",
    "t2,t3 = solveset(sphere,t)"
   ]
  },
  {
   "cell_type": "code",
   "execution_count": null,
   "metadata": {},
   "outputs": [],
   "source": [
    "t0, t1 = symbols('t0 t1')\n",
    "display(Eq(t0,simplify(t2)))"
   ]
  },
  {
   "cell_type": "code",
   "execution_count": null,
   "metadata": {},
   "outputs": [],
   "source": [
    "display(Eq(t1,simplify(t3)))"
   ]
  },
  {
   "cell_type": "markdown",
   "metadata": {},
   "source": [
    "## Ellipsoid"
   ]
  },
  {
   "cell_type": "code",
   "execution_count": 3,
   "metadata": {},
   "outputs": [
    {
     "name": "stdout",
     "output_type": "stream",
     "text": [
      "ellipsoid equation\n"
     ]
    },
    {
     "data": {
      "text/latex": [
       "$$\\frac{z_{e}^{2}}{c^{2}} + \\frac{y_{e}^{2}}{b^{2}} + \\frac{x_{e}^{2}}{a^{2}} = 1$$"
      ],
      "text/plain": [
       "  2     2     2    \n",
       "zₑ    yₑ    xₑ     \n",
       "─── + ─── + ─── = 1\n",
       "  2     2     2    \n",
       " c     b     a     "
      ]
     },
     "metadata": {},
     "output_type": "display_data"
    }
   ],
   "source": [
    "a,b,c = symbols('a b c') # ellipsoid\n",
    "xe,ye,ze = symbols('x_e y_e z_e') # coordinates\n",
    "\n",
    "# equation of the body to intersect the line with\n",
    "ellipsoid = Eq((xe/a)**2 + (ye/b)**2 + (ze/c)**2, 1)\n",
    "print(\"ellipsoid equation\")\n",
    "display(ellipsoid)"
   ]
  },
  {
   "cell_type": "code",
   "execution_count": 6,
   "metadata": {},
   "outputs": [
    {
     "data": {
      "text/latex": [
       "$$\\frac{1}{c^{2}} \\left(l t + z_{0}\\right)^{2} + \\frac{1}{b^{2}} \\left(k t + y_{0}\\right)^{2} + \\frac{1}{a^{2}} \\left(j t + x_{0}\\right)^{2} = 1$$"
      ],
      "text/plain": [
       "          2             2             2    \n",
       "(l⋅t + z₀)    (k⋅t + y₀)    (j⋅t + x₀)     \n",
       "─────────── + ─────────── + ─────────── = 1\n",
       "      2             2             2        \n",
       "     c             b             a         "
      ]
     },
     "metadata": {},
     "output_type": "display_data"
    }
   ],
   "source": [
    "ellipsoid =ellipsoid.subs([(xe, x), (ye,y), (ze,z)])\n",
    "display(ellipsoid)\n",
    "t2, t3 = solveset(ellipsoid, t)"
   ]
  },
  {
   "cell_type": "code",
   "execution_count": 5,
   "metadata": {},
   "outputs": [
    {
     "data": {
      "text/latex": [
       "$$t_{0} = \\frac{a b c}{a^{2} b^{2} l^{2} + a^{2} c^{2} k^{2} + b^{2} c^{2} j^{2}} \\sqrt{a^{2} b^{2} l^{2} + a^{2} c^{2} k^{2} - a^{2} k^{2} z_{0}^{2} + 2 a^{2} k l y_{0} z_{0} - a^{2} l^{2} y_{0}^{2} + b^{2} c^{2} j^{2} - b^{2} j^{2} z_{0}^{2} + 2 b^{2} j l x_{0} z_{0} - b^{2} l^{2} x_{0}^{2} - c^{2} j^{2} y_{0}^{2} + 2 c^{2} j k x_{0} y_{0} - c^{2} k^{2} x_{0}^{2}} - \\frac{a^{2} b^{2} l z_{0} + a^{2} c^{2} k y_{0} + b^{2} c^{2} j x_{0}}{a^{2} b^{2} l^{2} + a^{2} c^{2} k^{2} + b^{2} c^{2} j^{2}}$$"
      ],
      "text/plain": [
       "              ________________________________________________________________\n",
       "             ╱  2  2  2    2  2  2    2  2   2      2              2  2   2   \n",
       "     a⋅b⋅c⋅╲╱  a ⋅b ⋅l  + a ⋅c ⋅k  - a ⋅k ⋅z₀  + 2⋅a ⋅k⋅l⋅y₀⋅z₀ - a ⋅l ⋅y₀  + \n",
       "t₀ = ─────────────────────────────────────────────────────────────────────────\n",
       "                                                                         2  2 \n",
       "                                                                        a ⋅b ⋅\n",
       "\n",
       "______________________________________________________________________________\n",
       " 2  2  2    2  2   2      2              2  2   2    2  2   2      2          \n",
       "b ⋅c ⋅j  - b ⋅j ⋅z₀  + 2⋅b ⋅j⋅l⋅x₀⋅z₀ - b ⋅l ⋅x₀  - c ⋅j ⋅y₀  + 2⋅c ⋅j⋅k⋅x₀⋅y₀\n",
       "──────────────────────────────────────────────────────────────────────────────\n",
       " 2    2  2  2    2  2  2                                                      \n",
       "l  + a ⋅c ⋅k  + b ⋅c ⋅j                                                       \n",
       "\n",
       "_____________                                       \n",
       "    2  2   2     2  2         2  2         2  2     \n",
       " - c ⋅k ⋅x₀     a ⋅b ⋅l⋅z₀ + a ⋅c ⋅k⋅y₀ + b ⋅c ⋅j⋅x₀\n",
       "───────────── - ────────────────────────────────────\n",
       "                    2  2  2    2  2  2    2  2  2   \n",
       "                   a ⋅b ⋅l  + a ⋅c ⋅k  + b ⋅c ⋅j    "
      ]
     },
     "metadata": {},
     "output_type": "display_data"
    }
   ],
   "source": [
    "t0, t1 = symbols('t0 t1')\n",
    "display(Eq(t0,t2))"
   ]
  },
  {
   "cell_type": "code",
   "execution_count": 7,
   "metadata": {},
   "outputs": [
    {
     "data": {
      "text/latex": [
       "$$t_{1} = - \\frac{1}{a^{2} b^{2} l^{2} + a^{2} c^{2} k^{2} + b^{2} c^{2} j^{2}} \\left(a^{2} b^{2} l z_{0} + a^{2} c^{2} k y_{0} + a b c \\sqrt{a^{2} b^{2} l^{2} + a^{2} c^{2} k^{2} - a^{2} k^{2} z_{0}^{2} + 2 a^{2} k l y_{0} z_{0} - a^{2} l^{2} y_{0}^{2} + b^{2} c^{2} j^{2} - b^{2} j^{2} z_{0}^{2} + 2 b^{2} j l x_{0} z_{0} - b^{2} l^{2} x_{0}^{2} - c^{2} j^{2} y_{0}^{2} + 2 c^{2} j k x_{0} y_{0} - c^{2} k^{2} x_{0}^{2}} + b^{2} c^{2} j x_{0}\\right)$$"
      ],
      "text/plain": [
       "      ⎛                                   ____________________________________\n",
       "      ⎜ 2  2         2  2                ╱  2  2  2    2  2  2    2  2   2    \n",
       "     -⎝a ⋅b ⋅l⋅z₀ + a ⋅c ⋅k⋅y₀ + a⋅b⋅c⋅╲╱  a ⋅b ⋅l  + a ⋅c ⋅k  - a ⋅k ⋅z₀  + 2\n",
       "t₁ = ─────────────────────────────────────────────────────────────────────────\n",
       "                                                                              \n",
       "                                                                              \n",
       "\n",
       "______________________________________________________________________________\n",
       "  2              2  2   2    2  2  2    2  2   2      2              2  2   2 \n",
       "⋅a ⋅k⋅l⋅y₀⋅z₀ - a ⋅l ⋅y₀  + b ⋅c ⋅j  - b ⋅j ⋅z₀  + 2⋅b ⋅j⋅l⋅x₀⋅z₀ - b ⋅l ⋅x₀  \n",
       "──────────────────────────────────────────────────────────────────────────────\n",
       "                 2  2  2    2  2  2    2  2  2                                \n",
       "                a ⋅b ⋅l  + a ⋅c ⋅k  + b ⋅c ⋅j                                 \n",
       "\n",
       "_________________________________________             ⎞ \n",
       "   2  2   2      2              2  2   2     2  2     ⎟ \n",
       "- c ⋅j ⋅y₀  + 2⋅c ⋅j⋅k⋅x₀⋅y₀ - c ⋅k ⋅x₀   + b ⋅c ⋅j⋅x₀⎠ \n",
       "────────────────────────────────────────────────────────\n",
       "                                                        \n",
       "                                                        "
      ]
     },
     "metadata": {},
     "output_type": "display_data"
    }
   ],
   "source": [
    "display(Eq(t1,simplify(t3)))"
   ]
  },
  {
   "cell_type": "markdown",
   "metadata": {},
   "source": [
    "## Cone\n",
    "\n"
   ]
  },
  {
   "cell_type": "code",
   "execution_count": null,
   "metadata": {},
   "outputs": [],
   "source": [
    "a,b, = symbols('a b') # parameters for cone\n",
    "xc, yc, zc = symbols('x_c y_c z_c')\n",
    "\n",
    "cone = Eq((xc/a)**2 + (yc/b)**2 - zc, 0) # for symmetric cone set a=b\n",
    "print(\"cone equation\")\n",
    "display(cone)"
   ]
  },
  {
   "cell_type": "code",
   "execution_count": null,
   "metadata": {
    "collapsed": true
   },
   "outputs": [],
   "source": [
    "cone = cone.subs([(xc,x), (yc,y), (zc,z)])\n",
    "t2,t3 = solveset(cone,t)"
   ]
  },
  {
   "cell_type": "code",
   "execution_count": null,
   "metadata": {},
   "outputs": [],
   "source": [
    "t0, t1 = symbols('t0 t1')\n",
    "display(Eq(t0,simplify(t2)))"
   ]
  },
  {
   "cell_type": "code",
   "execution_count": null,
   "metadata": {},
   "outputs": [],
   "source": [
    "t0, t1 = symbols('t0 t1')\n",
    "display(Eq(t1,simplify(t3)))"
   ]
  },
  {
   "cell_type": "markdown",
   "metadata": {
    "collapsed": true
   },
   "source": [
    "## Cylinder"
   ]
  },
  {
   "cell_type": "code",
   "execution_count": 14,
   "metadata": {},
   "outputs": [
    {
     "name": "stdout",
     "output_type": "stream",
     "text": [
      "cylinder equation\n"
     ]
    },
    {
     "data": {
      "text/latex": [
       "$$\\frac{y_{c}^{2}}{b^{2}} + \\frac{x_{c}^{2}}{a^{2}} = 1$$"
      ],
      "text/plain": [
       "   2      2    \n",
       "y_c    x_c     \n",
       "──── + ──── = 1\n",
       "  2      2     \n",
       " b      a      "
      ]
     },
     "metadata": {},
     "output_type": "display_data"
    }
   ],
   "source": [
    "a,b = symbols('a b')\n",
    "xc, yc, zc = symbols('x_c y_c z_c')\n",
    "\n",
    "cylinder = Eq((xc/a)**2 + (yc/b)**2, 1)\n",
    "\n",
    "print(\"cylinder equation\")\n",
    "display(cylinder)"
   ]
  },
  {
   "cell_type": "code",
   "execution_count": 10,
   "metadata": {
    "collapsed": true
   },
   "outputs": [],
   "source": [
    "cylinder = cylinder.subs([(xc, x), (yc,y)])\n",
    "t2, t3 = solveset(cylinder, t)"
   ]
  },
  {
   "cell_type": "code",
   "execution_count": 11,
   "metadata": {},
   "outputs": [
    {
     "data": {
      "text/latex": [
       "$$t_{0} = \\frac{1}{a^{2} k^{2} + b^{2} j^{2}} \\left(- a^{2} k y_{0} + a b \\sqrt{a^{2} k^{2} + b^{2} j^{2} - j^{2} y_{0}^{2} + 2 j k x_{0} y_{0} - k^{2} x_{0}^{2}} - b^{2} j x_{0}\\right)$$"
      ],
      "text/plain": [
       "                        _______________________________________________       \n",
       "        2              ╱  2  2    2  2    2   2                  2   2     2  \n",
       "     - a ⋅k⋅y₀ + a⋅b⋅╲╱  a ⋅k  + b ⋅j  - j ⋅y₀  + 2⋅j⋅k⋅x₀⋅y₀ - k ⋅x₀   - b ⋅j\n",
       "t₀ = ─────────────────────────────────────────────────────────────────────────\n",
       "                                     2  2    2  2                             \n",
       "                                    a ⋅k  + b ⋅j                              \n",
       "\n",
       "   \n",
       "   \n",
       "⋅x₀\n",
       "───\n",
       "   \n",
       "   "
      ]
     },
     "metadata": {},
     "output_type": "display_data"
    }
   ],
   "source": [
    "t0, t1 = symbols('t0 t1')\n",
    "display(Eq(t0,simplify(t2)))"
   ]
  },
  {
   "cell_type": "code",
   "execution_count": 12,
   "metadata": {},
   "outputs": [
    {
     "data": {
      "text/latex": [
       "$$t_{1} = - \\frac{1}{a^{2} k^{2} + b^{2} j^{2}} \\left(a^{2} k y_{0} + a b \\sqrt{a^{2} k^{2} + b^{2} j^{2} - j^{2} y_{0}^{2} + 2 j k x_{0} y_{0} - k^{2} x_{0}^{2}} + b^{2} j x_{0}\\right)$$"
      ],
      "text/plain": [
       "      ⎛                 _______________________________________________       \n",
       "      ⎜ 2              ╱  2  2    2  2    2   2                  2   2     2  \n",
       "     -⎝a ⋅k⋅y₀ + a⋅b⋅╲╱  a ⋅k  + b ⋅j  - j ⋅y₀  + 2⋅j⋅k⋅x₀⋅y₀ - k ⋅x₀   + b ⋅j\n",
       "t₁ = ─────────────────────────────────────────────────────────────────────────\n",
       "                                      2  2    2  2                            \n",
       "                                     a ⋅k  + b ⋅j                             \n",
       "\n",
       "   ⎞ \n",
       "   ⎟ \n",
       "⋅x₀⎠ \n",
       "─────\n",
       "     \n",
       "     "
      ]
     },
     "metadata": {},
     "output_type": "display_data"
    }
   ],
   "source": [
    "t0, t1 = symbols('t0 t1')\n",
    "display(Eq(t1,simplify(t3)))"
   ]
  },
  {
   "cell_type": "code",
   "execution_count": null,
   "metadata": {
    "collapsed": true
   },
   "outputs": [],
   "source": []
  }
 ],
 "metadata": {
  "kernelspec": {
   "display_name": "Python 3",
   "language": "python",
   "name": "python3"
  },
  "language_info": {
   "codemirror_mode": {
    "name": "ipython",
    "version": 3
   },
   "file_extension": ".py",
   "mimetype": "text/x-python",
   "name": "python",
   "nbconvert_exporter": "python",
   "pygments_lexer": "ipython3",
   "version": "3.6.4"
  }
 },
 "nbformat": 4,
 "nbformat_minor": 2
}
