{
 "cells": [
  {
   "cell_type": "markdown",
   "metadata": {},
   "source": [
    "# Line intersection\n",
    "## Preparation"
   ]
  },
  {
   "cell_type": "code",
   "execution_count": 1,
   "metadata": {},
   "outputs": [],
   "source": [
    "import numpy as np\n",
    "from sympy import *\n",
    "init_printing(use_latex='mathjax')"
   ]
  },
  {
   "cell_type": "markdown",
   "metadata": {},
   "source": [
    "## Line Definition"
   ]
  },
  {
   "cell_type": "code",
   "execution_count": 2,
   "metadata": {
    "collapsed": true
   },
   "outputs": [],
   "source": [
    "x0,y0,z0 = symbols('x0 y0 z0') # line origin\n",
    "j,k,l = symbols('j k l') # line direction\n",
    "t, t2, t3 = symbols('t t2 t3') # parameter and two solutions\n",
    "\n",
    "x,y,z = symbols('x y z') # coordinates\n",
    "\n",
    "# line equations\n",
    "x = x0 + t*j\n",
    "y = y0 + t*k\n",
    "z = z0 + t*l"
   ]
  },
  {
   "cell_type": "markdown",
   "metadata": {},
   "source": [
    "## Ellipsoid"
   ]
  },
  {
   "cell_type": "code",
   "execution_count": 3,
   "metadata": {},
   "outputs": [
    {
     "name": "stdout",
     "output_type": "stream",
     "text": [
      "ellipsoid equation\n"
     ]
    },
    {
     "data": {
      "text/latex": [
       "$$\\frac{z_{e}^{2}}{c^{2}} + \\frac{y_{e}^{2}}{b^{2}} + \\frac{x_{e}^{2}}{a^{2}} = 1$$"
      ],
      "text/plain": [
       "  2     2     2    \n",
       "zₑ    yₑ    xₑ     \n",
       "─── + ─── + ─── = 1\n",
       "  2     2     2    \n",
       " c     b     a     "
      ]
     },
     "metadata": {},
     "output_type": "display_data"
    }
   ],
   "source": [
    "a,b,c = symbols('a b c') # ellipsoid\n",
    "xe,ye,ze = symbols('x_e y_e z_e') # coordinates\n",
    "\n",
    "# equation of the body to intersect the line with\n",
    "ellipsoid = Eq((xe/a)**2 + (ye/b)**2 + (ze/c)**2, 1)\n",
    "print(\"ellipsoid equation\")\n",
    "display(ellipsoid)"
   ]
  },
  {
   "cell_type": "code",
   "execution_count": 4,
   "metadata": {},
   "outputs": [],
   "source": [
    "ellipsoid =ellipsoid.subs([(xe, x), (ye,y), (ze,z)])\n",
    "t2, t3 = solveset(ellipsoid, t)"
   ]
  },
  {
   "cell_type": "code",
   "execution_count": 5,
   "metadata": {},
   "outputs": [
    {
     "data": {
      "text/latex": [
       "$$t_{0} = \\frac{1}{a^{2} b^{2} l^{2} + a^{2} c^{2} k^{2} + b^{2} c^{2} j^{2}} \\left(- a^{2} b^{2} l z_{0} - a^{2} c^{2} k y_{0} + a b c \\sqrt{a^{2} b^{2} l^{2} + a^{2} c^{2} k^{2} - a^{2} k^{2} z_{0}^{2} + 2 a^{2} k l y_{0} z_{0} - a^{2} l^{2} y_{0}^{2} + b^{2} c^{2} j^{2} - b^{2} j^{2} z_{0}^{2} + 2 b^{2} j l x_{0} z_{0} - b^{2} l^{2} x_{0}^{2} - c^{2} j^{2} y_{0}^{2} + 2 c^{2} j k x_{0} y_{0} - c^{2} k^{2} x_{0}^{2}} - b^{2} c^{2} j x_{0}\\right)$$"
      ],
      "text/plain": [
       "                                          ____________________________________\n",
       "        2  2         2  2                ╱  2  2  2    2  2  2    2  2   2    \n",
       "     - a ⋅b ⋅l⋅z₀ - a ⋅c ⋅k⋅y₀ + a⋅b⋅c⋅╲╱  a ⋅b ⋅l  + a ⋅c ⋅k  - a ⋅k ⋅z₀  + 2\n",
       "t₀ = ─────────────────────────────────────────────────────────────────────────\n",
       "                                                                              \n",
       "                                                                              \n",
       "\n",
       "______________________________________________________________________________\n",
       "  2              2  2   2    2  2  2    2  2   2      2              2  2   2 \n",
       "⋅a ⋅k⋅l⋅y₀⋅z₀ - a ⋅l ⋅y₀  + b ⋅c ⋅j  - b ⋅j ⋅z₀  + 2⋅b ⋅j⋅l⋅x₀⋅z₀ - b ⋅l ⋅x₀  \n",
       "──────────────────────────────────────────────────────────────────────────────\n",
       "                2  2  2    2  2  2    2  2  2                                 \n",
       "               a ⋅b ⋅l  + a ⋅c ⋅k  + b ⋅c ⋅j                                  \n",
       "\n",
       "_________________________________________             \n",
       "   2  2   2      2              2  2   2     2  2     \n",
       "- c ⋅j ⋅y₀  + 2⋅c ⋅j⋅k⋅x₀⋅y₀ - c ⋅k ⋅x₀   - b ⋅c ⋅j⋅x₀\n",
       "──────────────────────────────────────────────────────\n",
       "                                                      \n",
       "                                                      "
      ]
     },
     "metadata": {},
     "output_type": "display_data"
    }
   ],
   "source": [
    "t0, t1 = symbols('t0 t1')\n",
    "display(Eq(t0,simplify(t2)))"
   ]
  },
  {
   "cell_type": "code",
   "execution_count": 6,
   "metadata": {},
   "outputs": [
    {
     "data": {
      "text/latex": [
       "$$t_{1} = - \\frac{1}{a^{2} b^{2} l^{2} + a^{2} c^{2} k^{2} + b^{2} c^{2} j^{2}} \\left(a^{2} b^{2} l z_{0} + a^{2} c^{2} k y_{0} + a b c \\sqrt{a^{2} b^{2} l^{2} + a^{2} c^{2} k^{2} - a^{2} k^{2} z_{0}^{2} + 2 a^{2} k l y_{0} z_{0} - a^{2} l^{2} y_{0}^{2} + b^{2} c^{2} j^{2} - b^{2} j^{2} z_{0}^{2} + 2 b^{2} j l x_{0} z_{0} - b^{2} l^{2} x_{0}^{2} - c^{2} j^{2} y_{0}^{2} + 2 c^{2} j k x_{0} y_{0} - c^{2} k^{2} x_{0}^{2}} + b^{2} c^{2} j x_{0}\\right)$$"
      ],
      "text/plain": [
       "      ⎛                                   ____________________________________\n",
       "      ⎜ 2  2         2  2                ╱  2  2  2    2  2  2    2  2   2    \n",
       "     -⎝a ⋅b ⋅l⋅z₀ + a ⋅c ⋅k⋅y₀ + a⋅b⋅c⋅╲╱  a ⋅b ⋅l  + a ⋅c ⋅k  - a ⋅k ⋅z₀  + 2\n",
       "t₁ = ─────────────────────────────────────────────────────────────────────────\n",
       "                                                                              \n",
       "                                                                              \n",
       "\n",
       "______________________________________________________________________________\n",
       "  2              2  2   2    2  2  2    2  2   2      2              2  2   2 \n",
       "⋅a ⋅k⋅l⋅y₀⋅z₀ - a ⋅l ⋅y₀  + b ⋅c ⋅j  - b ⋅j ⋅z₀  + 2⋅b ⋅j⋅l⋅x₀⋅z₀ - b ⋅l ⋅x₀  \n",
       "──────────────────────────────────────────────────────────────────────────────\n",
       "                 2  2  2    2  2  2    2  2  2                                \n",
       "                a ⋅b ⋅l  + a ⋅c ⋅k  + b ⋅c ⋅j                                 \n",
       "\n",
       "_________________________________________             ⎞ \n",
       "   2  2   2      2              2  2   2     2  2     ⎟ \n",
       "- c ⋅j ⋅y₀  + 2⋅c ⋅j⋅k⋅x₀⋅y₀ - c ⋅k ⋅x₀   + b ⋅c ⋅j⋅x₀⎠ \n",
       "────────────────────────────────────────────────────────\n",
       "                                                        \n",
       "                                                        "
      ]
     },
     "metadata": {},
     "output_type": "display_data"
    }
   ],
   "source": [
    "display(Eq(t1,simplify(t3)))"
   ]
  },
  {
   "cell_type": "markdown",
   "metadata": {},
   "source": [
    "\n"
   ]
  }
 ],
 "metadata": {
  "kernelspec": {
   "display_name": "Python 3",
   "language": "python",
   "name": "python3"
  },
  "language_info": {
   "codemirror_mode": {
    "name": "ipython",
    "version": 3
   },
   "file_extension": ".py",
   "mimetype": "text/x-python",
   "name": "python",
   "nbconvert_exporter": "python",
   "pygments_lexer": "ipython3",
   "version": "3.6.4"
  }
 },
 "nbformat": 4,
 "nbformat_minor": 2
}
